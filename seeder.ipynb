{
 "cells": [
  {
   "cell_type": "code",
   "execution_count": 1,
   "metadata": {},
   "outputs": [],
   "source": [
    "import time\n",
    "from Kafka import Kafka\n",
    "from data_faker import DataFaker\n",
    "import json\n",
    "import os\n",
    "\n"
   ]
  },
  {
   "cell_type": "code",
   "execution_count": null,
   "metadata": {},
   "outputs": [],
   "source": [
    "# Produce a few sample messages to the Kafka topic\n",
    "for _ in range(10):\n",
    "    sample_data = DataFaker.generate_random_data()\n",
    "    Kafka.produce_message('customer-info-topic', sample_data)\n",
    "    time.sleep(1)  # Add a delay to simulate real-time data\n"
   ]
  },
  {
   "cell_type": "code",
   "execution_count": null,
   "metadata": {},
   "outputs": [],
   "source": [
    "# Function to read data from a file and produce to Kafka\n",
    "def process_file(file_path, topic):\n",
    "    with open(file_path, 'r') as file:\n",
    "        try:\n",
    "            for line in file:\n",
    "                Kafka.produce_message(topic, json.loads(line))\n",
    "        except json.JSONDecodeError as e:\n",
    "            print(f\"Error decoding JSON from file {file_path}: {e}\")\n",
    "\n",
    "data_folder = 'data'\n",
    "while True:\n",
    "    files = os.listdir(data_folder)\n",
    "    for file in files:\n",
    "        file_path = os.path.join(data_folder, file)\n",
    "        if os.path.isfile(file_path) and not file_path.endswith('.processed'):\n",
    "            process_file(file_path, 'customer-info-topic')\n",
    "            #mark file as processed\n",
    "            os.rename(file_path, file_path + '.processed')\n",
    "\n",
    "    time.sleep(1)"
   ]
  }
 ],
 "metadata": {
  "kernelspec": {
   "display_name": "Python 3",
   "language": "python",
   "name": "python3"
  },
  "language_info": {
   "codemirror_mode": {
    "name": "ipython",
    "version": 3
   },
   "file_extension": ".py",
   "mimetype": "text/x-python",
   "name": "python",
   "nbconvert_exporter": "python",
   "pygments_lexer": "ipython3",
   "version": "3.11.4"
  }
 },
 "nbformat": 4,
 "nbformat_minor": 2
}
